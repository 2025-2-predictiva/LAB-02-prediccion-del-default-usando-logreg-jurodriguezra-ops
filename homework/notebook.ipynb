{
 "cells": [
  {
   "cell_type": "code",
   "execution_count": 229,
   "id": "5da2463a",
   "metadata": {},
   "outputs": [],
   "source": [
    "import os\n",
    "import pandas as pd\n",
    "import pickle\n",
    "import gzip\n",
    "from sklearn.pipeline import Pipeline\n",
    "from sklearn.compose import ColumnTransformer\n",
    "from sklearn.preprocessing import OneHotEncoder, MinMaxScaler\n",
    "from sklearn.feature_selection import SelectKBest, f_classif\n",
    "from sklearn.linear_model import LogisticRegression\n",
    "from sklearn.model_selection import GridSearchCV\n",
    "from sklearn.metrics import (\n",
    "    precision_score,\n",
    "    recall_score,\n",
    "    f1_score,\n",
    "    balanced_accuracy_score,\n",
    "    confusion_matrix,\n",
    ")\n",
    "import json\n",
    "from sklearn.metrics import make_scorer, balanced_accuracy_score\n",
    "\n",
    "\n",
    "# Configuración de rutas base del proyecto\n",
    "current_dir = os.getcwd()\n",
    "base_project_path = os.path.dirname(current_dir)"
   ]
  },
  {
   "cell_type": "code",
   "execution_count": 230,
   "id": "f28ac348",
   "metadata": {},
   "outputs": [],
   "source": [
    "# Configuración de rutas base\n",
    "\n",
    "input_folder = os.path.join(base_project_path, \"files\", \"input\")\n",
    "train_file = os.path.join(input_folder, \"train_data.csv.zip\")\n",
    "test_file = os.path.join(input_folder, \"test_data.csv.zip\")\n",
    "\n",
    "# Cargar datasets\n",
    "df_train = pd.read_csv(train_file, compression='zip')\n",
    "df_test = pd.read_csv(test_file, compression='zip')"
   ]
  },
  {
   "cell_type": "code",
   "execution_count": 231,
   "id": "ebe6cb9b",
   "metadata": {},
   "outputs": [
    {
     "name": "stdout",
     "output_type": "stream",
     "text": [
      "Train shape: (21000, 24)\n",
      "Test shape: (9000, 24)\n",
      "   LIMIT_BAL  SEX  EDUCATION  MARRIAGE  AGE  PAY_0  PAY_2  PAY_3  PAY_4  \\\n",
      "0     310000    1          3         1   32      0      0      0      0   \n",
      "1      10000    2          3         1   49     -1     -1     -2     -1   \n",
      "2      50000    1          2         1   28     -1     -1     -1      0   \n",
      "3      80000    2          3         1   52      2      2      3      3   \n",
      "4     270000    1          1         2   34      1      2      0      0   \n",
      "\n",
      "   PAY_5  ...  BILL_AMT4  BILL_AMT5  BILL_AMT6  PAY_AMT1  PAY_AMT2  PAY_AMT3  \\\n",
      "0      0  ...      84373      57779      14163      8295      6000      4000   \n",
      "1      2  ...       1690       1138        930         0         0      2828   \n",
      "2     -1  ...      45975       1300      43987         0     46257      2200   \n",
      "3      3  ...      40748      39816      40607      3700      1600      1600   \n",
      "4      2  ...      22448      15490      17343         0      4000      2000   \n",
      "\n",
      "   PAY_AMT4  PAY_AMT5  PAY_AMT6  default  \n",
      "0      3000      1000      2000        0  \n",
      "1         0       182         0        1  \n",
      "2      1300     43987      1386        0  \n",
      "3         0      1600      1600        1  \n",
      "4         0      2000      2000        0  \n",
      "\n",
      "[5 rows x 24 columns]\n"
     ]
    }
   ],
   "source": [
    "# Limpieza de columnas\n",
    "# Renombrar variable objetivo\n",
    "df_train = df_train.rename(columns={\"default payment next month\": \"default\"})\n",
    "df_test = df_test.rename(columns={\"default payment next month\": \"default\"})\n",
    "\n",
    "# Remover columna ID si existe\n",
    "if \"ID\" in df_train.columns:\n",
    "    df_train = df_train.drop(columns=[\"ID\"])\n",
    "if \"ID\" in df_test.columns:\n",
    "    df_test = df_test.drop(columns=[\"ID\"])\n",
    "\n",
    "# Eliminar registros con información no disponible\n",
    "df_train = df_train.dropna()\n",
    "df_test = df_test.dropna()\n",
    "\n",
    "# Ajuste de la columna EDUCATION\n",
    "# Valores > 4 se agrupan en \"others\" (por ejemplo 5 y 6 se pasan a 4)\n",
    "df_train[\"EDUCATION\"] = df_train[\"EDUCATION\"].apply(lambda x: x if x <= 4 else 4)\n",
    "df_test[\"EDUCATION\"] = df_test[\"EDUCATION\"].apply(lambda x: x if x <= 4 else 4)\n",
    "\n",
    "# Verificar resultado\n",
    "print(\"Train shape:\", df_train.shape)\n",
    "print(\"Test shape:\", df_test.shape)\n",
    "print(df_train.head())"
   ]
  },
  {
   "cell_type": "code",
   "execution_count": 232,
   "id": "2db12389",
   "metadata": {},
   "outputs": [],
   "source": [
    "# Paso 2: Dividir datasets en X e y\n",
    "\n",
    "# Variables explicativas\n",
    "x_train = df_train.drop(columns=[\"default\"])\n",
    "x_test = df_test.drop(columns=[\"default\"])\n",
    "\n",
    "# Variable objetivo\n",
    "y_train = df_train[\"default\"]\n",
    "y_test = df_test[\"default\"]"
   ]
  },
  {
   "cell_type": "code",
   "execution_count": 233,
   "id": "da9b51d9",
   "metadata": {},
   "outputs": [
    {
     "name": "stdout",
     "output_type": "stream",
     "text": [
      "Fitting 10 folds for each of 70 candidates, totalling 700 fits\n",
      "Mejor score balanced_accuracy en CV: 0.6391944527283384\n",
      "Mejores parámetros: {'classifier__C': 0.65, 'classifier__solver': 'liblinear', 'select__k': 1}\n",
      "Score en conjunto de entrenamiento: 0.6391959574465568\n",
      "Score en conjunto de prueba: 0.654602898974264\n"
     ]
    }
   ],
   "source": [
    "\n",
    "# Paso 3 y 4: Crear pipeline y optimizar hiperparámetros\n",
    "\n",
    "# Columnas categóricas\n",
    "categorical_cols = ['SEX', 'EDUCATION', 'MARRIAGE']\n",
    "numerical_cols = [c for c in x_train.columns if c not in categorical_cols]\n",
    "\n",
    "# Preprocesamiento\n",
    "preprocessor = ColumnTransformer(transformers=[\n",
    "    ('cat', OneHotEncoder(drop='first'), categorical_cols),\n",
    "    ('num', MinMaxScaler(), numerical_cols)\n",
    "])\n",
    "\n",
    "# Pipeline\n",
    "pipeline = Pipeline([\n",
    "    ('preprocessor', preprocessor),\n",
    "    ('select', SelectKBest(score_func=f_classif)),\n",
    "    ('classifier', LogisticRegression(max_iter=2000))\n",
    "])\n",
    "\n",
    "# GridSearchCV\n",
    "param_grid = {\n",
    "    'select__k': [1, 2, 3, 4, 5, 6, 10],\n",
    "    'classifier__solver': ['liblinear', 'saga'],\n",
    "    'classifier__C': [0.65, 0.67, 0.68, 0.69, 0.7]\n",
    "}\n",
    "\n",
    "model = GridSearchCV(\n",
    "    estimator=pipeline,\n",
    "    param_grid=param_grid,\n",
    "    scoring='balanced_accuracy',\n",
    "    cv=10,\n",
    "    n_jobs=-1,\n",
    "    verbose=1\n",
    ")\n",
    "\n",
    "# Entrenar\n",
    "model.fit(x_train, y_train)\n",
    "\n",
    "# Resultados\n",
    "# Score en CV (ya lo tienes)\n",
    "print(\"Mejor score balanced_accuracy en CV:\", model.best_score_)\n",
    "print(\"Mejores parámetros:\", model.best_params_)\n",
    "\n",
    "# Score en train\n",
    "train_score = model.score(x_train, y_train)\n",
    "print(\"Score en conjunto de entrenamiento:\", train_score)\n",
    "\n",
    "# Score en test\n",
    "test_score = model.score(x_test, y_test)\n",
    "print(\"Score en conjunto de prueba:\", test_score)\n"
   ]
  },
  {
   "cell_type": "code",
   "execution_count": 234,
   "id": "425bafca",
   "metadata": {},
   "outputs": [
    {
     "name": "stdout",
     "output_type": "stream",
     "text": [
      "Modelo guardado correctamente en c:\\Descriptiva\\LAB-02-prediccion-del-default-usando-logreg-jurodriguezra-ops\\files\\models\\model.pkl.gz\n"
     ]
    }
   ],
   "source": [
    "# -------------------------------------------------------------------\n",
    "# Ruta para guardar el modelo\n",
    "model_path = os.path.join(base_project_path, \"files\", \"models\", \"model.pkl.gz\")\n",
    "\n",
    "# Crear carpeta si no existe\n",
    "os.makedirs(os.path.dirname(model_path), exist_ok=True)\n",
    "\n",
    "# Guardar modelo completo (GridSearchCV con pipeline incluido)\n",
    "with gzip.open(model_path, \"wb\") as f:\n",
    "    pickle.dump(model, f)\n",
    "\n",
    "print(f\"Modelo guardado correctamente en {model_path}\")"
   ]
  },
  {
   "cell_type": "code",
   "execution_count": 236,
   "id": "bc28ea5c",
   "metadata": {},
   "outputs": [
    {
     "name": "stdout",
     "output_type": "stream",
     "text": [
      "Métricas y matrices de confusión guardadas correctamente en c:\\Descriptiva\\LAB-02-prediccion-del-default-usando-logreg-jurodriguezra-ops\\files\\output\\metrics.json\n"
     ]
    }
   ],
   "source": [
    "metrics_path = os.path.join(base_project_path, \"files\", \"output\", \"metrics.json\")\n",
    "os.makedirs(os.path.dirname(metrics_path), exist_ok=True)\n",
    "\n",
    "def compute_metrics_and_cm(y_true, y_pred, dataset_name):\n",
    "    cm = confusion_matrix(y_true, y_pred)\n",
    "    return [\n",
    "        {\n",
    "            \"type\": \"metrics\",\n",
    "            \"dataset\": dataset_name,\n",
    "            \"precision\": round(precision_score(y_true, y_pred), 4),\n",
    "            \"balanced_accuracy\": balanced_accuracy_score(y_true, y_pred),\n",
    "            \"recall\": recall_score(y_true, y_pred),\n",
    "            \"f1_score\": f1_score(y_true, y_pred),\n",
    "        }]\n",
    "\n",
    "def compute_cm (y_true, y_pred, dataset_name):\n",
    "    cm = confusion_matrix(y_true, y_pred)\n",
    "    return [{\n",
    "        \"type\": \"cm_matrix\",\n",
    "        \"dataset\": dataset_name,\n",
    "        \"true_0\": {\"predicted_0\": int(cm[0,0]), \"predicted_1\": int(cm[0,1])},\n",
    "        \"true_1\": {\"predicted_0\": int(cm[1,0]), \"predicted_1\": int(cm[1,1])},\n",
    "    }]\n",
    "\n",
    "# Calcular métricas y matrices de confusión\n",
    "metrics = []\n",
    "metrics += compute_metrics_and_cm(y_train, model.predict(x_train), \"train\")\n",
    "metrics += compute_metrics_and_cm(y_test, model.predict(x_test), \"test\")\n",
    "metrics += compute_cm(y_train, model.predict(x_train), \"train\")\n",
    "metrics += compute_cm(y_test, model.predict(x_test), \"test\")\n",
    "\n",
    "# Guardar todas las métricas en un solo archivo JSON\n",
    "with open(metrics_path, \"w\", encoding=\"utf-8\") as f:\n",
    "    for m in metrics:\n",
    "        f.write(json.dumps(m) + \"\\n\")\n",
    "\n",
    "print(f\"Métricas y matrices de confusión guardadas correctamente en {metrics_path}\")"
   ]
  }
 ],
 "metadata": {
  "kernelspec": {
   "display_name": "base",
   "language": "python",
   "name": "python3"
  },
  "language_info": {
   "codemirror_mode": {
    "name": "ipython",
    "version": 3
   },
   "file_extension": ".py",
   "mimetype": "text/x-python",
   "name": "python",
   "nbconvert_exporter": "python",
   "pygments_lexer": "ipython3",
   "version": "3.13.5"
  }
 },
 "nbformat": 4,
 "nbformat_minor": 5
}
